{
 "cells": [
  {
   "cell_type": "code",
   "execution_count": null,
   "metadata": {},
   "outputs": [],
   "source": [
    "import pickle\n",
    "\n",
    "with open('./pkl_files/api.pkl', 'rb') as file:\n",
    "    data = pickle.load(file)\n",
    "print(data)\n"
   ]
  },
  {
   "cell_type": "code",
   "execution_count": null,
   "metadata": {},
   "outputs": [],
   "source": [
    "len(data)"
   ]
  },
  {
   "cell_type": "code",
   "execution_count": null,
   "metadata": {},
   "outputs": [],
   "source": [
    "for i in data:\n",
    "    print(i)\n",
    "    print(data[i])"
   ]
  },
  {
   "cell_type": "code",
   "execution_count": 4,
   "metadata": {},
   "outputs": [],
   "source": [
    "def_api = {\n",
    "    'class':[],\n",
    "    'meaning':[]\n",
    "}\n",
    "for i in data:\n",
    "    def_api['class'].append(i)\n",
    "    meaning = ''\n",
    "    for j in data[i]:\n",
    "        meaning+=j\n",
    "    def_api['meaning'].append(meaning)\n",
    "\n"
   ]
  },
  {
   "cell_type": "code",
   "execution_count": 5,
   "metadata": {},
   "outputs": [],
   "source": [
    "with open('./pkl_files/class.pkl', 'rb') as file:\n",
    "    data = pickle.load(file)\n",
    "for i in data:\n",
    "    def_api['class'].append(i)\n",
    "    meaning = ''\n",
    "    for j in data[i]:\n",
    "        meaning+=j\n",
    "    def_api['meaning'].append(meaning)"
   ]
  },
  {
   "cell_type": "code",
   "execution_count": 6,
   "metadata": {},
   "outputs": [
    {
     "data": {
      "text/html": [
       "<div>\n",
       "<style scoped>\n",
       "    .dataframe tbody tr th:only-of-type {\n",
       "        vertical-align: middle;\n",
       "    }\n",
       "\n",
       "    .dataframe tbody tr th {\n",
       "        vertical-align: top;\n",
       "    }\n",
       "\n",
       "    .dataframe thead th {\n",
       "        text-align: right;\n",
       "    }\n",
       "</style>\n",
       "<table border=\"1\" class=\"dataframe\">\n",
       "  <thead>\n",
       "    <tr style=\"text-align: right;\">\n",
       "      <th></th>\n",
       "      <th>class</th>\n",
       "      <th>meaning</th>\n",
       "    </tr>\n",
       "  </thead>\n",
       "  <tbody>\n",
       "    <tr>\n",
       "      <th>0</th>\n",
       "      <td>SetROP2</td>\n",
       "      <td>Microsoft Build · May 19 – 22, 2025This sectio...</td>\n",
       "    </tr>\n",
       "    <tr>\n",
       "      <th>1</th>\n",
       "      <td>AddAtomW</td>\n",
       "      <td>Microsoft Build · May 19 – 22, 2025AddAtomW fu...</td>\n",
       "    </tr>\n",
       "    <tr>\n",
       "      <th>2</th>\n",
       "      <td>GetSystemPaletteEntries</td>\n",
       "      <td>Microsoft Build · May 19 – 22, 2025GetSystemPa...</td>\n",
       "    </tr>\n",
       "    <tr>\n",
       "      <th>3</th>\n",
       "      <td>CompareFileTime</td>\n",
       "      <td>Microsoft Build · May 19 – 22, 2025CompareFile...</td>\n",
       "    </tr>\n",
       "    <tr>\n",
       "      <th>4</th>\n",
       "      <td>GetThreadLocale</td>\n",
       "      <td>Microsoft Build · May 19 – 22, 2025GetThreadLo...</td>\n",
       "    </tr>\n",
       "    <tr>\n",
       "      <th>...</th>\n",
       "      <td>...</td>\n",
       "      <td>...</td>\n",
       "    </tr>\n",
       "    <tr>\n",
       "      <th>1170</th>\n",
       "      <td>hoax</td>\n",
       "      <td>MAGAZINE ARTICLES PsExec The Memory Optimizati...</td>\n",
       "    </tr>\n",
       "    <tr>\n",
       "      <th>1171</th>\n",
       "      <td>USD</td>\n",
       "      <td>StatusingDataSet.ProjectsRow.PROJ_OPT_CURRENCY...</td>\n",
       "    </tr>\n",
       "    <tr>\n",
       "      <th>1172</th>\n",
       "      <td>adware</td>\n",
       "      <td>How to block/remove adware an... You could blo...</td>\n",
       "    </tr>\n",
       "    <tr>\n",
       "      <th>1173</th>\n",
       "      <td>hacktool</td>\n",
       "      <td>How Microsoft identifies malware and potential...</td>\n",
       "    </tr>\n",
       "    <tr>\n",
       "      <th>1174</th>\n",
       "      <td>rootkit</td>\n",
       "      <td>Rootkits Malware authors use rootkits to hide ...</td>\n",
       "    </tr>\n",
       "  </tbody>\n",
       "</table>\n",
       "<p>1175 rows × 2 columns</p>\n",
       "</div>"
      ],
      "text/plain": [
       "                        class  \\\n",
       "0                     SetROP2   \n",
       "1                    AddAtomW   \n",
       "2     GetSystemPaletteEntries   \n",
       "3             CompareFileTime   \n",
       "4             GetThreadLocale   \n",
       "...                       ...   \n",
       "1170                     hoax   \n",
       "1171                      USD   \n",
       "1172                   adware   \n",
       "1173                 hacktool   \n",
       "1174                  rootkit   \n",
       "\n",
       "                                                meaning  \n",
       "0     Microsoft Build · May 19 – 22, 2025This sectio...  \n",
       "1     Microsoft Build · May 19 – 22, 2025AddAtomW fu...  \n",
       "2     Microsoft Build · May 19 – 22, 2025GetSystemPa...  \n",
       "3     Microsoft Build · May 19 – 22, 2025CompareFile...  \n",
       "4     Microsoft Build · May 19 – 22, 2025GetThreadLo...  \n",
       "...                                                 ...  \n",
       "1170  MAGAZINE ARTICLES PsExec The Memory Optimizati...  \n",
       "1171  StatusingDataSet.ProjectsRow.PROJ_OPT_CURRENCY...  \n",
       "1172  How to block/remove adware an... You could blo...  \n",
       "1173  How Microsoft identifies malware and potential...  \n",
       "1174  Rootkits Malware authors use rootkits to hide ...  \n",
       "\n",
       "[1175 rows x 2 columns]"
      ]
     },
     "execution_count": 6,
     "metadata": {},
     "output_type": "execute_result"
    }
   ],
   "source": [
    "import pandas as pd\n",
    "df = pd.DataFrame(def_api)\n",
    "\n",
    "df"
   ]
  },
  {
   "cell_type": "code",
   "execution_count": 8,
   "metadata": {},
   "outputs": [],
   "source": [
    "df.to_csv('./csv_files/def_api.csv')"
   ]
  }
 ],
 "metadata": {
  "kernelspec": {
   "display_name": "venv",
   "language": "python",
   "name": "python3"
  },
  "language_info": {
   "codemirror_mode": {
    "name": "ipython",
    "version": 3
   },
   "file_extension": ".py",
   "mimetype": "text/x-python",
   "name": "python",
   "nbconvert_exporter": "python",
   "pygments_lexer": "ipython3",
   "version": "3.13.1"
  }
 },
 "nbformat": 4,
 "nbformat_minor": 2
}
